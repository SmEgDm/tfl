{
 "cells": [
  {
   "cell_type": "markdown",
   "metadata": {},
   "source": [
    "# **Проверка конфлюэнтности по перекрытию**"
   ]
  },
  {
   "cell_type": "markdown",
   "metadata": {},
   "source": [
    "## **Парсер**"
   ]
  },
  {
   "cell_type": "code",
   "execution_count": 7,
   "metadata": {},
   "outputs": [],
   "source": [
    "import re\n",
    "\n",
    "rule_format = r'[ \\t]*([a-z]+)[ \\t]*->[ \\t]*([a-z]*)[ \\t]*'\n",
    "\n",
    "def parse(lines):\n",
    "    srs = []\n",
    "    for line in lines:\n",
    "        if line == '': continue\n",
    "        if not re.fullmatch(rule_format, line):\n",
    "            raise Exception(f'The rule \\\"{line}\\\" has incorrect format')\n",
    "        srs.append(list(map(lambda x: x.strip(), line.split('->'))))\n",
    "    return srs"
   ]
  },
  {
   "cell_type": "markdown",
   "metadata": {},
   "source": [
    "## **Проверка на перекрытие**"
   ]
  },
  {
   "cell_type": "code",
   "execution_count": 8,
   "metadata": {},
   "outputs": [],
   "source": [
    "def has_overlap(term, other_term=None):\n",
    "    if other_term == None:\n",
    "        for i in range(1, len(term) // 2 + 1):\n",
    "            if term[:i] == term[-i:]:\n",
    "                return True\n",
    "        return False\n",
    "    for i in range(min(len(term), len(other_term)) + 1):\n",
    "        if term[i:] == other_term[-i:] or term[-i:] == other_term[i:]:\n",
    "            return True\n",
    "    return False"
   ]
  },
  {
   "cell_type": "markdown",
   "metadata": {},
   "source": [
    "## **Проверка конфлюэнтности**"
   ]
  },
  {
   "cell_type": "code",
   "execution_count": 9,
   "metadata": {},
   "outputs": [],
   "source": [
    "def confluence_verdict(srs):\n",
    "    for i in range(len(srs)):\n",
    "        if has_overlap(srs[i][0]):\n",
    "            return ('The system may not be confluence', f'Overlapping term: {srs[i][0]}')\n",
    "        for j in range(i + 1, len(srs)):\n",
    "            if has_overlap(srs[i][0], srs[j][0]):\n",
    "                return ('The system may not be confluence', f'Overlapping terms: {srs[i][0]}, {srs[j][0]}')\n",
    "    return ('The system is confluence', None)"
   ]
  },
  {
   "cell_type": "markdown",
   "metadata": {},
   "source": [
    "## **Тесты**"
   ]
  },
  {
   "cell_type": "code",
   "execution_count": 10,
   "metadata": {},
   "outputs": [
    {
     "data": {
      "application/vnd.jupyter.widget-view+json": {
       "model_id": "7a5886f722cf414fb586289d92d1454d",
       "version_major": 2,
       "version_minor": 0
      },
      "text/plain": [
       "Accordion(children=(HTML(value='\\n    <div>\\n        <b>Input</b><br>\\n        fgf -> ghhg<br>hh -><br><br>\\n …"
      ]
     },
     "metadata": {},
     "output_type": "display_data"
    }
   ],
   "source": [
    "import os\n",
    "from IPython.core.display import display\n",
    "from ipywidgets import Accordion, HTML\n",
    "\n",
    "tests_count = len(os.listdir('tests'))\n",
    "\n",
    "children = []\n",
    "output_pattern = lambda input_text, result: HTML(\n",
    "    f'''\n",
    "    <div>\n",
    "        <b>Input</b><br>\n",
    "        {input_text}<br><br>\n",
    "        <b>Result</b><br>\n",
    "        {result}\n",
    "    </div>\n",
    "    '''\n",
    ")\n",
    "\n",
    "for i in range(tests_count):\n",
    "    with open(f'tests/test_{i}.txt') as f:\n",
    "        lines = [line.strip() for line in f.readlines() if line != '\\n']\n",
    "        result = ''\n",
    "        try:\n",
    "            srs = parse(lines)\n",
    "            verdict, overlap = confluence_verdict(srs)\n",
    "            result =  f'{verdict}<br>{overlap if overlap != None else \"\"}'\n",
    "        except Exception as err:\n",
    "            result = f'<b>Parse error: </b>{err}'\n",
    "        children.append(output_pattern('<br>'.join(lines), result))\n",
    "\n",
    "accordion = Accordion(children=children)\n",
    "for i in range(tests_count):\n",
    "    accordion.set_title(i, f'Test {i + 1}')\n",
    "\n",
    "display(accordion)"
   ]
  },
  {
   "cell_type": "code",
   "execution_count": null,
   "metadata": {},
   "outputs": [],
   "source": []
  }
 ],
 "metadata": {
  "interpreter": {
   "hash": "ea68cbfb3389b9177140d47072b988a142c6fed20866379f0d743d320396fcb4"
  },
  "kernelspec": {
   "display_name": "Python 3.10.0 64-bit",
   "name": "python3"
  },
  "language_info": {
   "codemirror_mode": {
    "name": "ipython",
    "version": 3
   },
   "file_extension": ".py",
   "mimetype": "text/x-python",
   "name": "python",
   "nbconvert_exporter": "python",
   "pygments_lexer": "ipython3",
   "version": "3.10.0"
  },
  "orig_nbformat": 4
 },
 "nbformat": 4,
 "nbformat_minor": 2
}
