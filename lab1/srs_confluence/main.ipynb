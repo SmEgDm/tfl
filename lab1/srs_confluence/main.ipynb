{
 "cells": [
  {
   "cell_type": "markdown",
   "metadata": {},
   "source": [
    "# **Проверка конфлюэнтности по перекрытию**"
   ]
  },
  {
   "cell_type": "markdown",
   "metadata": {},
   "source": [
    "## **Парсер**"
   ]
  },
  {
   "cell_type": "code",
   "execution_count": 2,
   "metadata": {},
   "outputs": [],
   "source": [
    "import re\n",
    "\n",
    "rule_format = r'[ \\t]*([a-z]+)[ \\t]*->[ \\t]*([a-z]*)[ \\t]*'\n",
    "\n",
    "def parse(text):\n",
    "    srs = []\n",
    "    for line in text.strip().split('\\n'):\n",
    "        if line == '': continue\n",
    "        if not re.fullmatch(rule_format, line):\n",
    "            raise Exception(f'The rule \\\"{line}\\\" has incorrect format')\n",
    "        srs.append(list(map(lambda x: x.strip(), line.split('->'))))\n",
    "    return srs"
   ]
  },
  {
   "cell_type": "markdown",
   "metadata": {},
   "source": [
    "## **Проверка на перекрытие**"
   ]
  },
  {
   "cell_type": "code",
   "execution_count": 3,
   "metadata": {},
   "outputs": [],
   "source": [
    "def has_overlap(term, other_term=None):\n",
    "    if other_term == None:\n",
    "        for i in range(1, len(term) // 2 + 1):\n",
    "            if term[:i] == term[-i:]:\n",
    "                return True\n",
    "        return False\n",
    "    for i in range(min(len(term), len(other_term)) + 1):\n",
    "        if term[i:] == other_term[-i:] or term[-i:] == other_term[i:]:\n",
    "            return True\n",
    "    return False"
   ]
  },
  {
   "cell_type": "markdown",
   "metadata": {},
   "source": [
    "## **Проверка конфлюэнтности**"
   ]
  },
  {
   "cell_type": "code",
   "execution_count": 4,
   "metadata": {},
   "outputs": [],
   "source": [
    "def confluence_verdict(srs):\n",
    "    for i in range(len(srs)):\n",
    "        if has_overlap(srs[i][0]):\n",
    "            return ('The system may not be confluence', f'Overlapping term: {srs[i][0]}')\n",
    "        for j in range(i + 1, len(srs)):\n",
    "            if has_overlap(srs[i][0], srs[j][0]):\n",
    "                return ('The system may not be confluence', f'Overlapping terms: {srs[i][0]}, {srs[j][0]}')\n",
    "    return ('The system is confluence', None)"
   ]
  },
  {
   "cell_type": "markdown",
   "metadata": {},
   "source": [
    "## **Тесты**"
   ]
  },
  {
   "cell_type": "code",
   "execution_count": 6,
   "metadata": {},
   "outputs": [
    {
     "data": {
      "text/html": [
       "\n",
       "                <h3>Test 1</h3>\n",
       "                <div>\n",
       "                    <b>The system may not be confluence</b><br>\n",
       "                    <i>Overlapping term: fgf</i>\n",
       "                </div>\n",
       "                "
      ],
      "text/plain": [
       "<IPython.core.display.HTML object>"
      ]
     },
     "metadata": {},
     "output_type": "display_data"
    },
    {
     "data": {
      "text/html": [
       "\n",
       "                <h3>Test 2</h3>\n",
       "                <div>\n",
       "                    <b>The system may not be confluence</b><br>\n",
       "                    <i>Overlapping term: abxfiuhtiuhskhdfkjcabx</i>\n",
       "                </div>\n",
       "                "
      ],
      "text/plain": [
       "<IPython.core.display.HTML object>"
      ]
     },
     "metadata": {},
     "output_type": "display_data"
    },
    {
     "data": {
      "text/html": [
       "\n",
       "                <h3>Test 3</h3>\n",
       "                <div>\n",
       "                    <b>The system may not be confluence</b><br>\n",
       "                    <i>Overlapping terms: wergnnvcclajsdlknaasdihtkjnfnhh, oh</i>\n",
       "                </div>\n",
       "                "
      ],
      "text/plain": [
       "<IPython.core.display.HTML object>"
      ]
     },
     "metadata": {},
     "output_type": "display_data"
    },
    {
     "data": {
      "text/html": [
       "\n",
       "                <h3>Test 4</h3>\n",
       "                <div><b><font color='red'>Parse error: </font></b>The rule \"1000-7? -> zxc\" has incorrect format</div>\n",
       "                "
      ],
      "text/plain": [
       "<IPython.core.display.HTML object>"
      ]
     },
     "metadata": {},
     "output_type": "display_data"
    },
    {
     "data": {
      "text/html": [
       "\n",
       "                <h3>Test 5</h3>\n",
       "                <div>\n",
       "                    <b>The system is confluence</b><br>\n",
       "                    <i></i>\n",
       "                </div>\n",
       "                "
      ],
      "text/plain": [
       "<IPython.core.display.HTML object>"
      ]
     },
     "metadata": {},
     "output_type": "display_data"
    }
   ],
   "source": [
    "from IPython.core.display import display, HTML\n",
    "\n",
    "tests_count = 5\n",
    "\n",
    "for i in range(tests_count):\n",
    "    with open(f'tests/test_{i}.txt') as f:\n",
    "        try:\n",
    "            srs = parse(f.read())\n",
    "            verdict, overlap = confluence_verdict(srs)\n",
    "            display(HTML(\n",
    "                f\"\"\"\n",
    "                <h3>Test {i + 1}</h3>\n",
    "                <div>\n",
    "                    <b>{verdict}</b><br>\n",
    "                    <i>{overlap if overlap != None else ''}</i>\n",
    "                </div>\n",
    "                \"\"\"\n",
    "            ))\n",
    "        except Exception as err:\n",
    "            display(HTML(\n",
    "                f\"\"\"\n",
    "                <h3>Test {i + 1}</h3>\n",
    "                <div><b><font color='red'>Parse error: </font></b>{err}</div>\n",
    "                \"\"\"\n",
    "            ))"
   ]
  },
  {
   "cell_type": "code",
   "execution_count": null,
   "metadata": {},
   "outputs": [],
   "source": []
  }
 ],
 "metadata": {
  "interpreter": {
   "hash": "ea68cbfb3389b9177140d47072b988a142c6fed20866379f0d743d320396fcb4"
  },
  "kernelspec": {
   "display_name": "Python 3.10.0 64-bit",
   "name": "python3"
  },
  "language_info": {
   "codemirror_mode": {
    "name": "ipython",
    "version": 3
   },
   "file_extension": ".py",
   "mimetype": "text/x-python",
   "name": "python",
   "nbconvert_exporter": "python",
   "pygments_lexer": "ipython3",
   "version": "3.10.0"
  },
  "orig_nbformat": 4
 },
 "nbformat": 4,
 "nbformat_minor": 2
}
