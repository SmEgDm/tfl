{
 "cells": [
  {
   "cell_type": "markdown",
   "metadata": {},
   "source": [
    "# **Алгоритм унификации линейных термов**"
   ]
  },
  {
   "cell_type": "markdown",
   "metadata": {},
   "source": [
    "## **Лексер**"
   ]
  },
  {
   "cell_type": "code",
   "execution_count": 187,
   "metadata": {},
   "outputs": [],
   "source": [
    "def tokenize(line):\n",
    "    tokens = []\n",
    "    token = ''\n",
    "    for symbol in ''.join(line.split()):\n",
    "        if symbol.isdigit() and token.isdigit() and token != '0':\n",
    "            token += symbol\n",
    "            continue\n",
    "        if token != '': tokens.append(token)\n",
    "        token = symbol\n",
    "    if token != '': tokens.append(token)\n",
    "    \n",
    "    return tokens"
   ]
  },
  {
   "cell_type": "markdown",
   "metadata": {},
   "source": [
    "## **Парсeр конструкторов**"
   ]
  },
  {
   "cell_type": "code",
   "execution_count": 188,
   "metadata": {},
   "outputs": [],
   "source": [
    "import re\n",
    "\n",
    "constructor_regex = r'[a-zA-Z][ \\t]*\\([ \\t]*\\d+[ \\t]*\\)'\n",
    "\n",
    "constructors_regex = f'constructors[ \\t]*=[ \\t]*({constructor_regex}[ \\t]*(,[ \\t]*{constructor_regex}[ \\t]*)*)?'\n",
    "\n",
    "def parse_constructors(line):\n",
    "    if not re.fullmatch(constructors_regex, line):\n",
    "        raise Exception('Incorrect constructors definition')\n",
    "    constructors = {}\n",
    "    constants = set()\n",
    "    for constructor_str in re.findall(constructor_regex, line):\n",
    "        name = re.findall(r'[a-zA-Z]', constructor_str)[0]\n",
    "        args_count = int(re.findall(r'\\d', constructor_str)[0])\n",
    "        if re.fullmatch(r'[a-z]', name):\n",
    "            if args_count <= 0:\n",
    "                raise Exception('Argument count of constructor must be a natural number')\n",
    "            constructors[name] = args_count\n",
    "        else:\n",
    "            if args_count != 0:\n",
    "                raise Exception('Argument count of constant must be zero')\n",
    "            constants.add(name)\n",
    "    \n",
    "    return (constructors, constants)"
   ]
  },
  {
   "cell_type": "markdown",
   "metadata": {},
   "source": [
    "## **Парсер переменных**"
   ]
  },
  {
   "cell_type": "code",
   "execution_count": 189,
   "metadata": {},
   "outputs": [],
   "source": [
    "variables_regex = r'variables[ \\t]*=[ \\t]*([a-z][ \\t]*(,[ \\t]*[a-z][ \\t]*)*)?'\n",
    "\n",
    "def parse_variables(line):\n",
    "    if not re.fullmatch(variables_regex, line):\n",
    "        raise Exception('Incorrect variables definition')\n",
    "    \n",
    "    return set(re.findall(r'[a-z]', line.split('=')[1]))"
   ]
  },
  {
   "cell_type": "markdown",
   "metadata": {},
   "source": [
    "## **Парсeр термов**"
   ]
  },
  {
   "cell_type": "code",
   "execution_count": 190,
   "metadata": {},
   "outputs": [],
   "source": [
    "class Term:\n",
    "    def __init__(self, name, subterms=[]):\n",
    "        self.name = name\n",
    "        self.subterms = subterms\n",
    "    \n",
    "    def is_composite(self):\n",
    "        return len(self.subterms) != 0\n",
    "    \n",
    "    def is_variable(self):\n",
    "        return not self.is_composite() and re.fullmatch(r'[a-z]', self.name)\n",
    "    \n",
    "    def __eq__(self, obj):\n",
    "        return isinstance(obj, Term) and self.name == obj.name\n",
    "\n",
    "    def __str__(self):\n",
    "        if self.is_composite():\n",
    "            result = f'{self.name}({str(self.subterms[0])}'\n",
    "            for i in range(1, len(self.subterms)):\n",
    "                result += f', {str(self.subterms[i])}'\n",
    "            return f'{result})'\n",
    "        return self.name\n",
    "\n",
    "class TRS:\n",
    "    def __init__(self, constructors, constants, variables):\n",
    "        if len(set(constructors) & variables) != 0:\n",
    "            raise Exception('Constructors and variables must have different names')\n",
    "        self.constructors = constructors\n",
    "        self.constants = constants\n",
    "        self.variables = variables\n",
    "    \n",
    "    def parse_term(self, line):\n",
    "        tokens = tokenize(line)\n",
    "        def term():\n",
    "            if tokens[0] in self.constructors:\n",
    "                return constructor()\n",
    "            if tokens[0] in self.variables | self.constants:\n",
    "                return Term(tokens.pop(0))\n",
    "            raise Exception('Incorrect term')\n",
    "        def constructor():\n",
    "            name = tokens.pop(0)\n",
    "            if tokens.pop(0) != '(':\n",
    "                raise Exception('Incorrect term')\n",
    "            args = [term()]\n",
    "            def tail():\n",
    "                if tokens[0] != ',': return\n",
    "                tokens.pop(0)\n",
    "                args.append(term())\n",
    "                tail()\n",
    "            tail()\n",
    "            if tokens.pop(0) != ')' or self.constructors[name] != len(args):\n",
    "                raise Exception('Incorrect term')\n",
    "            return Term(name, args)\n",
    "        return term()"
   ]
  },
  {
   "cell_type": "markdown",
   "metadata": {},
   "source": [
    "## **Унификатор**"
   ]
  },
  {
   "cell_type": "code",
   "execution_count": 191,
   "metadata": {},
   "outputs": [],
   "source": [
    "substitutions = []\n",
    "\n",
    "class UnificationException(Exception):\n",
    "    def __init__(self, message):\n",
    "        self.message = message\n",
    "        super().__init__(self.message)\n",
    "\n",
    "def unification(term, other_term):\n",
    "    if term.is_variable():\n",
    "        substitutions.append(f'{str(term)} := {str(other_term)}')\n",
    "        return other_term\n",
    "    if other_term.is_variable():\n",
    "        substitutions.append(f'{str(other_term)} := {str(term)}')\n",
    "        return term\n",
    "    if term == other_term:\n",
    "        return Term(term.name, [unification(term.subterms[i], other_term.subterms[i]) for i in range(len(term.subterms))])\n",
    "    raise UnificationException('Unable to unificate')"
   ]
  },
  {
   "cell_type": "markdown",
   "metadata": {},
   "source": [
    "## **Тесты**"
   ]
  },
  {
   "cell_type": "code",
   "execution_count": 203,
   "metadata": {},
   "outputs": [
    {
     "data": {
      "text/html": [
       "\n",
       "                <h3>Test 1</h3>\n",
       "                <div>\n",
       "                    <b>Unifier: f(f(y, x), g(A))</b><br>\n",
       "                    <i>Substitutions: w := f(y, x), z := g(A)</i>\n",
       "                </div>\n",
       "                "
      ],
      "text/plain": [
       "<IPython.core.display.HTML object>"
      ]
     },
     "metadata": {},
     "output_type": "display_data"
    },
    {
     "data": {
      "text/html": [
       "\n",
       "                <h3>Test 2</h3>\n",
       "                <div>\n",
       "                    <b>Unifier: b</b><br>\n",
       "                    <i>Substitutions: a := b</i>\n",
       "                </div>\n",
       "                "
      ],
      "text/plain": [
       "<IPython.core.display.HTML object>"
      ]
     },
     "metadata": {},
     "output_type": "display_data"
    },
    {
     "data": {
      "text/html": [
       "\n",
       "                <h3>Test 3</h3>\n",
       "                <div><b><font color='red'>Parse error: </font></b>Argument count of constant must be zero</div>\n",
       "                "
      ],
      "text/plain": [
       "<IPython.core.display.HTML object>"
      ]
     },
     "metadata": {},
     "output_type": "display_data"
    },
    {
     "data": {
      "text/html": [
       "\n",
       "                <h3>Test 4</h3>\n",
       "                <div>Unable to unificate</div>\n",
       "                "
      ],
      "text/plain": [
       "<IPython.core.display.HTML object>"
      ]
     },
     "metadata": {},
     "output_type": "display_data"
    },
    {
     "data": {
      "text/html": [
       "\n",
       "                <h3>Test 5</h3>\n",
       "                <div>\n",
       "                    <b>Unifier: f(f(g(q, w), N, f(w, e, r)), g(f(e, M, t), f(y, t, r)), f(g(N, M), g(M, N), N))</b><br>\n",
       "                    <i>Substitutions: e := f(g(q, w), N, f(w, e, r)), w := f(e, M, t), q := f(y, t, r), r := g(N, M), t := g(M, N)</i>\n",
       "                </div>\n",
       "                "
      ],
      "text/plain": [
       "<IPython.core.display.HTML object>"
      ]
     },
     "metadata": {},
     "output_type": "display_data"
    }
   ],
   "source": [
    "from IPython.core.display import display, HTML\n",
    "\n",
    "tests_count = 5\n",
    "\n",
    "for i in range(tests_count):\n",
    "    with open(f'tests/test_{i}.txt') as f:\n",
    "        try:\n",
    "            substitutions = []\n",
    "            lines = [line.strip() for line in f.readlines() if line != '\\n']\n",
    "            trs = TRS(*parse_constructors(lines[0]), parse_variables(lines[1]))\n",
    "            term = trs.parse_term(lines[2].split('=')[1])\n",
    "            other_term = trs.parse_term(lines[3].split('=')[1])\n",
    "            unifier = unification(term, other_term)\n",
    "            display(HTML(\n",
    "                f\"\"\"\n",
    "                <h3>Test {i + 1}</h3>\n",
    "                <div>\n",
    "                    <b>Unifier: {str(unifier)}</b><br>\n",
    "                    <i>Substitutions: {', '.join(substitutions)}</i>\n",
    "                </div>\n",
    "                \"\"\"\n",
    "            ))\n",
    "        except UnificationException as err:\n",
    "            display(HTML(\n",
    "                f\"\"\"\n",
    "                <h3>Test {i + 1}</h3>\n",
    "                <div>{err}</div>\n",
    "                \"\"\"\n",
    "            ))\n",
    "        except Exception as err:\n",
    "            display(HTML(\n",
    "                f\"\"\"\n",
    "                <h3>Test {i + 1}</h3>\n",
    "                <div><b><font color='red'>Parse error: </font></b>{err}</div>\n",
    "                \"\"\"\n",
    "            ))\n",
    "        "
   ]
  },
  {
   "cell_type": "code",
   "execution_count": null,
   "metadata": {},
   "outputs": [],
   "source": []
  }
 ],
 "metadata": {
  "interpreter": {
   "hash": "ea68cbfb3389b9177140d47072b988a142c6fed20866379f0d743d320396fcb4"
  },
  "kernelspec": {
   "display_name": "Python 3.10.0 64-bit",
   "name": "python3"
  },
  "language_info": {
   "codemirror_mode": {
    "name": "ipython",
    "version": 3
   },
   "file_extension": ".py",
   "mimetype": "text/x-python",
   "name": "python",
   "nbconvert_exporter": "python",
   "pygments_lexer": "ipython3",
   "version": "3.10.0"
  },
  "orig_nbformat": 4
 },
 "nbformat": 4,
 "nbformat_minor": 2
}
