{
 "cells": [
  {
   "cell_type": "markdown",
   "metadata": {},
   "source": [
    "# Алгоритм решения системы регулярных выражений\n",
    "Пусть $\\mathcal{K}$ — алгебра регулярных выражений на конечным алфавитом $\\Sigma$ сигнатуры $\\langle 0, 1, +, \\cdot, ^* \\rangle$. \\\n",
    "Будем решать системы вида:\n",
    "\n",
    "$$\n",
    "\\begin{cases}\n",
    "    \\begin{gather*}\n",
    "    X_1 = \\alpha_{11}X_1 + ... + \\alpha_{1n}X_n + \\beta_i, \\\\\n",
    "    ... \\tag{1}\\\\\n",
    "    X_n = \\alpha_{n1}X_1 + ... + \\alpha_{nn}X_n + \\beta_n; \\\\\n",
    "    \\end{gather*}\n",
    "\\end{cases}\n",
    "$$\n",
    "\n",
    "где $\\alpha_{ij}, \\beta_{ij} \\in \\mathcal{K}$.\n",
    "\n",
    "Для текущей задачи решение таких систем избыточно, так как синтаксис входных данных предполагает, что $\\alpha_{ij} \\neq 1, \\beta_{i} \\notin \\{0; 1\\}$ (это дает нам всегда единственное решение), однако решение систем в общем виде потребуется при переводе *DFA* в *regex*, так что сразу реализуем алгоритм, который решает системы и общего вида."
   ]
  },
  {
   "cell_type": "markdown",
   "metadata": {},
   "source": [
    "## Алгебра регулярных выражений"
   ]
  },
  {
   "cell_type": "markdown",
   "metadata": {},
   "source": [
    "В связи с тем, что уравнения в системе придется решать в алгебре $\\mathcal{K}$, было бы неплохо реализовать класс регулярных выражений с необходимыми операциями.\n",
    "\n",
    "Так как $\\forall R \\in \\mathcal{K}: R = (R)$, возникает проблема лишних скобок при приведении в строку регулярного выражения. Для решения данной проблемы экзмепляр класса можно представить в виде древовидной стуктуры, а при создании экземпляра (из строки) строить дерево разбора, согласно следующей\\\n",
    "грамматике $\\mathcal{G}$:\n",
    "\n",
    "$$\n",
    "\\begin{align*}\n",
    "    S &\\rightarrow T_1\\textcolor{red}{\\textbf{|}}S \\; | \\; T_1 \\\\\n",
    "    T_1 &\\rightarrow T_2T_1 \\; | \\; T_2 \\\\\n",
    "    T_2 &\\rightarrow T_3^{\\textcolor{red}{*}} \\; | \\; T_3 \\\\\n",
    "    T_3 &\\rightarrow C \\; | \\; \\textcolor{red}{(}S\\textcolor{red}{)} \\; | \\; \\varepsilon\n",
    "\\end{align*}\n",
    "$$\n",
    "\n",
    "где $C$ — символ из $\\Sigma$ $(\\Sigma \\cap \\{|, ^*, (, )\\} = \\varnothing)$."
   ]
  },
  {
   "cell_type": "markdown",
   "metadata": {},
   "source": [
    "### Класс регулярных выражений"
   ]
  },
  {
   "cell_type": "code",
   "execution_count": 142,
   "metadata": {},
   "outputs": [],
   "source": [
    "import re\n",
    "from enum import Enum, auto\n",
    "\n",
    "class Operation(Enum):\n",
    "    CONST = auto()\n",
    "    ALT = auto()\n",
    "    CONCAT = auto()\n",
    "    KLEENE = auto()\n",
    "\n",
    "ZERO = '0'\n",
    "ONE = '1'\n",
    "\n",
    "def parse_symbol(tokens):\n",
    "    if re.fullmatch('[a-z01]', tokens[0]):\n",
    "        return Regex(Operation.CONST, tokens.pop(0))\n",
    "\n",
    "class Regex():\n",
    "    def __init__(self, operation=None, operands=ZERO):\n",
    "        global ONE, ZERO\n",
    "        if operation == None:\n",
    "            self.operation = Operation.CONST\n",
    "            self.operands = ZERO\n",
    "        elif operation == '':\n",
    "            self.operation = Operation.CONST\n",
    "            self.operands = ONE\n",
    "        else:\n",
    "            self.operation = operation\n",
    "            self.operands = operands\n",
    "    \n",
    "    def parse(value):\n",
    "        global parse_symbol\n",
    "        tokens = [token for token in value] if isinstance(value, str) else value\n",
    "        def parse_S():\n",
    "            regex = parse_T1()\n",
    "            if len(tokens) != 0 and tokens[0] == '|':\n",
    "                tokens.pop(0)\n",
    "                other_regex = parse_S()\n",
    "                return regex + other_regex\n",
    "            return regex\n",
    "        def parse_T1():\n",
    "            regex = parse_T2()\n",
    "            if regex == Regex(''):\n",
    "                return regex\n",
    "            other_regex = parse_T1()\n",
    "            if other_regex != Regex(''):\n",
    "                return regex * other_regex\n",
    "            return regex\n",
    "        def parse_T2():\n",
    "            regex = parse_T3()\n",
    "            if regex == Regex(''):\n",
    "                return regex\n",
    "            if len(tokens) != 0 and tokens[0] == '*':\n",
    "                tokens.pop(0)\n",
    "                return regex.kleene_star()\n",
    "            return regex\n",
    "        def parse_T3():\n",
    "            if len(tokens) == 0:\n",
    "                return Regex('')\n",
    "            regex = parse_symbol(tokens)\n",
    "            if regex != None:\n",
    "                return regex\n",
    "            if tokens[0] == '(':\n",
    "                tokens.pop(0)\n",
    "                regex = parse_S()\n",
    "                if len(tokens) != 0 and tokens.pop(0) == ')':\n",
    "                    return regex\n",
    "                raise Exception('Incorrect regex')\n",
    "            return Regex('')\n",
    "        regex = parse_S()\n",
    "        if isinstance(value, str) and len(tokens) != 0:\n",
    "            raise Exception('Incorrect regex')\n",
    "        return regex\n",
    "    \n",
    "    def __eq__(self, regex):\n",
    "        return isinstance(regex, Regex) and self.operation == regex.operation and self.operands == regex.operands\n",
    "    \n",
    "    def set_zero(value):\n",
    "        global ZERO\n",
    "        if value == None:\n",
    "            return\n",
    "        ZERO = value\n",
    "    \n",
    "    def set_one(value):\n",
    "        global ONE\n",
    "        if value == None:\n",
    "            return\n",
    "        ONE = value\n",
    "    \n",
    "    def set_parse_symbol(func):\n",
    "        global parse_symbol\n",
    "        if func == None:\n",
    "            return\n",
    "        parse_symbol = func\n",
    "    \n",
    "    def is_zero(self):\n",
    "        global ZERO\n",
    "        return self.operation == Operation.CONST and self.operands == ZERO\n",
    "    \n",
    "    def is_one(self):\n",
    "        global ONE\n",
    "        return self.operation == Operation.CONST and self.operands == ONE\n",
    "    \n",
    "    def kleene_star(regex):\n",
    "        if regex.is_zero() or regex.is_one():\n",
    "            return Regex('')\n",
    "        if regex.operation == Operation.KLEENE:\n",
    "            return regex\n",
    "        return Regex(Operation.KLEENE, regex)\n",
    "\n",
    "    def __add__(self, regex):\n",
    "        if self.is_zero():\n",
    "            return regex\n",
    "        if regex.is_zero():\n",
    "            return self \n",
    "        if self == regex:\n",
    "            return self\n",
    "        self_operands = [self]\n",
    "        if self.operation == Operation.ALT:\n",
    "            self_operands = self.operands\n",
    "        regex_operands = [regex]\n",
    "        if regex.operation == Operation.ALT:\n",
    "            regex_operands = regex.operands\n",
    "        operands = []\n",
    "        for operand in self_operands + regex_operands:\n",
    "            if operand not in operands:\n",
    "                operands.append(operand)\n",
    "        return Regex(Operation.ALT, operands)\n",
    "    \n",
    "    def __mul__(self, regex):\n",
    "        if self.is_zero() or regex.is_zero():\n",
    "            return Regex()\n",
    "        if self.is_one():\n",
    "            return regex\n",
    "        if regex.is_one():\n",
    "            return self\n",
    "        self_operands = [self]\n",
    "        if self.operation == Operation.CONCAT:\n",
    "            self_operands = self.operands\n",
    "        regex_operands = [regex]\n",
    "        if regex.operation == Operation.CONCAT:\n",
    "            regex_operands = regex.operands\n",
    "        return Regex(Operation.CONCAT, self_operands + regex_operands)\n",
    "    \n",
    "    def __str__(self):\n",
    "        global ONE\n",
    "        match self.operation:\n",
    "            case Operation.CONST:\n",
    "                return self.operands\n",
    "            case Operation.KLEENE:\n",
    "                if self.operands.operation == Operation.CONST:\n",
    "                    return f'{self.operands}*'\n",
    "                return f'({self.operands})*'\n",
    "            case Operation.CONCAT:\n",
    "                result = ''\n",
    "                for operand in self.operands:\n",
    "                    if operand.operation == Operation.ALT:\n",
    "                        result += f'({operand})'\n",
    "                        continue\n",
    "                    result +=  f'{operand}'\n",
    "                return result\n",
    "            case Operation.ALT:\n",
    "                return '|'.join(map(str, self.operands)).replace(f'{ONE}', '')"
   ]
  },
  {
   "cell_type": "markdown",
   "metadata": {},
   "source": [
    "## Уравнения"
   ]
  },
  {
   "cell_type": "markdown",
   "metadata": {},
   "source": [
    "### Парсер"
   ]
  },
  {
   "cell_type": "markdown",
   "metadata": {},
   "source": [
    "Так как грамматика входных данных не допускает линейные уравнения общего вида, а делать тесты и использовать решение систем в следующих задачах придется, построим грамматику, способную разбирать любые линейные уравнения:\n",
    "\n",
    "$$\n",
    "\\begin{align*}\n",
    "    S &\\rightarrow V\\textcolor{red}{\\textbf{=}}L \\\\\n",
    "    L &\\rightarrow T\\textcolor{red}{\\textbf{+}}L \\; | \\; T \\\\\n",
    "    T &\\rightarrow R \\; | \\; RV\n",
    "\\end{align*}\n",
    "$$\n",
    "\n",
    "где $R$ — любое регулярное выражение из $L(\\mathcal{G})$, а $V$ — любая переменная из $\\Delta$ $(\\Delta \\cap \\Sigma = \\varnothing)$.\n",
    "\n",
    "Разбор уравнения происходит в методе *parse* класса *Equation*."
   ]
  },
  {
   "cell_type": "markdown",
   "metadata": {},
   "source": [
    "### Решение уравнений"
   ]
  },
  {
   "cell_type": "markdown",
   "metadata": {},
   "source": [
    "**Определение**\\\n",
    "Пусть $X = f(X)$ — уравнение в алгебре $\\mathcal{K}$. Решение $\\gamma$ этого уравнения называется *наименьшим*, если для любого другого решения $\\gamma'$ выполнено $L(\\gamma) \\subset L(\\gamma')$\n",
    " \n",
    "**Утверждение**\\\n",
    "Пусть $\\alpha, \\beta \\in \\mathcal{K}$. Тогда $\\alpha^{*}\\beta$ является наименьшим решением уравнения $X = \\alpha X + \\beta$, если, при этом $\\varepsilon \\notin L(\\alpha)$, то единственным.\n",
    "\n",
    "Нахождение наименьшего решения происходит в методе *solve* класса *Equation*."
   ]
  },
  {
   "cell_type": "markdown",
   "metadata": {},
   "source": [
    "### Класс уравнений"
   ]
  },
  {
   "cell_type": "code",
   "execution_count": 143,
   "metadata": {},
   "outputs": [],
   "source": [
    "def parse_var(tokens):\n",
    "    if len(tokens) != 0 and re.fullmatch(r'[A-Z]', tokens[0]):\n",
    "        return tokens.pop(0)\n",
    "\n",
    "class Equation:\n",
    "    def __init__(self, var, lin_comb):\n",
    "        self.var = var\n",
    "        self.lin_comb = lin_comb\n",
    "        if '' not in self.lin_comb:\n",
    "            self.lin_comb[''] = Regex()\n",
    "    \n",
    "    def set_parse_var(func):\n",
    "        global parse_var\n",
    "        if func == None:\n",
    "            return\n",
    "        parse_var = func\n",
    "\n",
    "    def parse(value):\n",
    "        global parse_var\n",
    "        tokens = [token for token in ''.join(value.split())]\n",
    "        def parse_L():\n",
    "            if len(tokens) == 0:\n",
    "                raise Exception('Incorrect equation')\n",
    "            term = parse_T()\n",
    "            if len(tokens) == 0:\n",
    "                return [term]\n",
    "            if tokens.pop(0) != '+' :\n",
    "                raise Exception('Incorrect equation')\n",
    "            return [term] + parse_L()\n",
    "        def parse_T():\n",
    "            regex = Regex.parse(tokens)\n",
    "            var = parse_var(tokens) \n",
    "            return (var if var != None else '', regex)\n",
    "        var = parse_var(tokens)\n",
    "        if var == None:\n",
    "            raise Exception('Incorrect equation')\n",
    "        if len(tokens) == 0 or tokens.pop(0) != '=':\n",
    "            raise Exception('Incorrect equation')\n",
    "        terms = parse_L()\n",
    "        lin_comb = {}\n",
    "        for term in terms:\n",
    "            if term[0] in lin_comb:\n",
    "                lin_comb[term[0]] += term[1]\n",
    "                continue\n",
    "            lin_comb[term[0]] = term[1]\n",
    "        return Equation(var, lin_comb)\n",
    "    \n",
    "    def solve(self):\n",
    "        if self.var not in self.lin_comb:\n",
    "            return self\n",
    "        multiplier = Regex.kleene_star(self.lin_comb[self.var])\n",
    "        self.lin_comb = {var: multiplier * coef for var, coef in self.lin_comb.items()}\n",
    "        del self.lin_comb[self.var]\n",
    "        return self\n",
    "\n",
    "    def substitute(self, equation):\n",
    "        if equation.var not in self.lin_comb:\n",
    "            return self\n",
    "        multipiler = self.lin_comb[equation.var]\n",
    "        del self.lin_comb[equation.var]\n",
    "        for var in equation.var:\n",
    "            if var not in self.lin_comb:\n",
    "                self.lin_comb[equation.var] = Regex()\n",
    "        for var in self.lin_comb:\n",
    "            if var in equation.lin_comb:\n",
    "                self.lin_comb[var] += multipiler * equation.lin_comb[var]\n",
    "        return self\n",
    "    \n",
    "    def __str__(self):\n",
    "        result = f'{self.var} ='\n",
    "        for var, coef in self.lin_comb.items():\n",
    "            if coef.is_zero():\n",
    "                continue\n",
    "            if coef.is_one():\n",
    "                result += f' {var} +' if var != '' else f' {coef} +'\n",
    "                continue\n",
    "            result += f' {coef}{var} +'\n",
    "        if result[-1] == '=':\n",
    "            return f'{result} {self.lin_comb[\"\"]}'\n",
    "        return result[:-2]"
   ]
  },
  {
   "cell_type": "markdown",
   "metadata": {},
   "source": [
    "## Системы"
   ]
  },
  {
   "cell_type": "markdown",
   "metadata": {},
   "source": [
    "### Парсер входных данных"
   ]
  },
  {
   "cell_type": "markdown",
   "metadata": {},
   "source": [
    "Регулярные выражения входных данных импортируются из файла [rules.py](https://github.com/SmEgDm/tfl/tree/main/labs/lab2/regex_system_solver/rules.py)."
   ]
  },
  {
   "cell_type": "code",
   "execution_count": 144,
   "metadata": {},
   "outputs": [],
   "source": [
    "import rules\n",
    "\n",
    "def parse(text):\n",
    "    if not re.fullmatch(rules.system, text):\n",
    "        raise Exception('Incorrect system')\n",
    "    system = []\n",
    "    left_vars = set(['']); right_vars = set()\n",
    "    for equation in re.findall(rules.equation, text):\n",
    "        left_vars.add(re.search(rules.var, equation).group(0))\n",
    "        right_vars = right_vars.union(set([right_var for _, right_var in re.findall(f'({rules.regex})({rules.var}|)', equation)]))\n",
    "        system.append(equation)\n",
    "    if right_vars > left_vars:\n",
    "        raise Exception('Incorrect system')\n",
    "    return system"
   ]
  },
  {
   "cell_type": "markdown",
   "metadata": {},
   "source": [
    "### Решение систем"
   ]
  },
  {
   "cell_type": "markdown",
   "metadata": {},
   "source": [
    "**Определение**\\\n",
    "Решение $(\\gamma_1, ...,\\gamma_n)$ системы $(1)$ называется наименьшим, если для любого решения $(\\gamma_1', ...,\\gamma_n')$ системы $(1)$ выполнено: $\\forall i=\\overline{1,n}: L(\\gamma_i) \\subset L(\\gamma_i')$.\n",
    "\n",
    "**Алгоритм**\\\n",
    "<u>Прямой ход</u> (по $i$ от $1$ до $n$): в уравнение $X_i = \\alpha_{i1}X_1 + ... + \\alpha_{in}X_n + \\beta_i$ подставляем $X_1, ..., X_{i - 1}$ (если $i = 1$, то пропускаем подстановку), затем находим наименьшее решение у полученного уравнения в предположении, что $X_{i + 1}, ..., X_{n}$ известны.\\\n",
    "В итоге имеем уравнения вида $X_i = \\lambda_{i(i+1)}X_{i+1} + ... + \\lambda_{in}X_n + \\mu_{i}$ (если $i = n$, то $X_n = \\mu_n$).\n",
    "\n",
    "<u>Обратный ход</u> (по $i$ от $n$ до $1$): в уравнение $X_i = \\lambda_{i(i+1)}X_{i+1} + ... + \\lambda_{in}X_n + \\mu_{i}$ подставляем $X_{i+1}, ..., X_n$ (если $i = n$, то пропускаем подстановку).\\\n",
    "Получаем уравнения, в которых отсутствуют переменные в правых частях — это результат работы алгоритма.\n",
    "\n",
    "**Утверждение**\\\n",
    "Вышеописанный алгоритм находит наименьшее решение системы $(1)$."
   ]
  },
  {
   "cell_type": "code",
   "execution_count": 145,
   "metadata": {},
   "outputs": [],
   "source": [
    "def solve_system(equations):\n",
    "    n = len(equations)\n",
    "    # Прямой ход\n",
    "    for i in range(n):\n",
    "        for j in range(i):\n",
    "            equations[i].substitute(equations[j])\n",
    "        equations[i].solve()\n",
    "    # Обратный ход\n",
    "    for i in range(n - 1, -1, -1):\n",
    "        for j  in range(i + 1, n):\n",
    "            equations[i].substitute(equations[j])\n",
    "    return equations"
   ]
  },
  {
   "cell_type": "markdown",
   "metadata": {},
   "source": [
    "## Тесты"
   ]
  },
  {
   "cell_type": "markdown",
   "metadata": {},
   "source": [
    "### Системы по синтаксису входных данных"
   ]
  },
  {
   "cell_type": "code",
   "execution_count": 146,
   "metadata": {},
   "outputs": [
    {
     "data": {
      "application/vnd.jupyter.widget-view+json": {
       "model_id": "6bad7a5f56874301a81c0e9e6c29bb26",
       "version_major": 2,
       "version_minor": 0
      },
      "text/plain": [
       "Tab(children=(HTML(value='\\n    <div>\\n        <b>Input</b><br>\\n        X = aX + b<br>Y = cX + d <br><br>\\n  …"
      ]
     },
     "metadata": {},
     "output_type": "display_data"
    }
   ],
   "source": [
    "import os\n",
    "from ipywidgets import Tab, HTML\n",
    "\n",
    "tests_count = len(os.listdir('tests'))\n",
    "\n",
    "children = []\n",
    "output_pattern = lambda input_text, result: HTML(\n",
    "    f'''\n",
    "    <div>\n",
    "        <b>Input</b><br>\n",
    "        {input_text}<br><br>\n",
    "        <b>Result</b><br>\n",
    "        {result}\n",
    "    </div>\n",
    "    '''\n",
    ")\n",
    "\n",
    "for i in range(tests_count):\n",
    "    with open(f'tests/test_{i}.txt') as f:\n",
    "        text = f.read()\n",
    "        try:\n",
    "            system = [Equation.parse(equation) for equation in parse(text)]\n",
    "            solve_system(system)\n",
    "            result = '<br>'.join(map(str, system))\n",
    "        except Exception as err:\n",
    "            result = f'<b>{err}</b>'\n",
    "        children.append(output_pattern('<br>'.join(text.split('\\n')), result))\n",
    "\n",
    "tab = Tab()\n",
    "for i in range(tests_count):\n",
    "    tab.set_title(i, f'Test {i + 1}')\n",
    "tab.children = children\n",
    "\n",
    "tab"
   ]
  },
  {
   "cell_type": "markdown",
   "metadata": {},
   "source": [
    "### Системы общего вида"
   ]
  },
  {
   "cell_type": "code",
   "execution_count": 147,
   "metadata": {},
   "outputs": [
    {
     "data": {
      "application/vnd.jupyter.widget-view+json": {
       "model_id": "bd8a8e74e5454089a21b21c36b63d61d",
       "version_major": 2,
       "version_minor": 0
      },
      "text/plain": [
       "Tab(children=(HTML(value='\\n    <div>\\n        <b>Input</b><br>\\n        X = X<br><br>\\n        <b>Result</b><…"
      ]
     },
     "metadata": {},
     "output_type": "display_data"
    }
   ],
   "source": [
    "import sys\n",
    "\n",
    "sys.path.append('other_tests')\n",
    "\n",
    "tests_count = len(os.listdir('other_tests'))\n",
    "\n",
    "children = []\n",
    "\n",
    "for i in range(tests_count):\n",
    "    with open(f'other_tests/test_{i}.txt') as f:\n",
    "        text = f.read()\n",
    "        try:\n",
    "            system = [Equation.parse(equation) for equation in text.split('\\n')]\n",
    "            solve_system(system)\n",
    "            result = '<br>'.join(map(str, system))\n",
    "        except Exception as err:\n",
    "            result = f'<b>{err}</b>'\n",
    "        children.append(output_pattern('<br>'.join(text.split('\\n')), result))\n",
    "\n",
    "tab = Tab()\n",
    "for i in range(tests_count):\n",
    "    tab.set_title(i, f'Test {i + 1}')\n",
    "tab.children = children\n",
    "\n",
    "tab"
   ]
  },
  {
   "cell_type": "code",
   "execution_count": null,
   "metadata": {},
   "outputs": [],
   "source": []
  }
 ],
 "metadata": {
  "interpreter": {
   "hash": "ea68cbfb3389b9177140d47072b988a142c6fed20866379f0d743d320396fcb4"
  },
  "kernelspec": {
   "display_name": "Python 3.10.0 64-bit",
   "name": "python3"
  },
  "language_info": {
   "codemirror_mode": {
    "name": "ipython",
    "version": 3
   },
   "file_extension": ".py",
   "mimetype": "text/x-python",
   "name": "python",
   "nbconvert_exporter": "python",
   "pygments_lexer": "ipython3",
   "version": "3.10.0"
  },
  "orig_nbformat": 4
 },
 "nbformat": 4,
 "nbformat_minor": 2
}
