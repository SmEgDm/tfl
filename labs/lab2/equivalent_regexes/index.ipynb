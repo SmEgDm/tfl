{
 "cells": [
  {
   "cell_type": "markdown",
   "metadata": {},
   "source": [
    "# Эквивалентные регулярные выражения"
   ]
  },
  {
   "cell_type": "markdown",
   "metadata": {},
   "source": []
  },
  {
   "cell_type": "code",
   "execution_count": 46,
   "metadata": {},
   "outputs": [
    {
     "name": "stdout",
     "output_type": "stream",
     "text": [
      "[0, 0, 0, 0, 0, 0, 0, 0, 0, 10004500]\n"
     ]
    }
   ],
   "source": [
    "import re\n",
    "from time import time_ns\n",
    "import matplotlib.pyplot as plt\n",
    "\n",
    "academic_regex = '0|1(0|2)*1(1(0|2)*1|0|2)*|2(1(0|2)*1|0|2)*'\n",
    "\n",
    "negation_regex = '[^12]|[^02][^1]*[^02]([^02][^1]*[^02]|[^1])*|[^01]([^02][^1]*[^02]|[^1])*'\n",
    "\n",
    "lazy_regex = '0|1(0|2)*?1(1(0|2)*?1|0|2)*?|2(1(0|2)*?1|0|2)*?'\n",
    "\n",
    "def match_time(regex, string):\n",
    "    start = time_ns()\n",
    "    re.fullmatch(regex, string)\n",
    "    return time_ns() - start\n",
    "\n",
    "x = []\n",
    "y = []\n",
    "\n",
    "with open(f'tests.txt') as f:\n",
    "    for test in f.read().split('\\n'):\n",
    "        x.append(len(test))\n",
    "        y.append(match_time(academic_regex, test))\n",
    "\n",
    "print(y)\n",
    "\n",
    "\n",
    "\n",
    "\n",
    "\n"
   ]
  },
  {
   "cell_type": "code",
   "execution_count": 47,
   "metadata": {},
   "outputs": [
    {
     "name": "stdout",
     "output_type": "stream",
     "text": [
      "[56, 104, 125, 180, 230, 289, 376, 415, 573, 10260]\n"
     ]
    }
   ],
   "source": [
    "print(x)"
   ]
  },
  {
   "cell_type": "code",
   "execution_count": null,
   "metadata": {},
   "outputs": [],
   "source": []
  }
 ],
 "metadata": {
  "interpreter": {
   "hash": "ea68cbfb3389b9177140d47072b988a142c6fed20866379f0d743d320396fcb4"
  },
  "kernelspec": {
   "display_name": "Python 3.10.0 64-bit",
   "language": "python",
   "name": "python3"
  },
  "language_info": {
   "codemirror_mode": {
    "name": "ipython",
    "version": 3
   },
   "file_extension": ".py",
   "mimetype": "text/x-python",
   "name": "python",
   "nbconvert_exporter": "python",
   "pygments_lexer": "ipython3",
   "version": "3.10.0"
  },
  "orig_nbformat": 4
 },
 "nbformat": 4,
 "nbformat_minor": 2
}
