{
 "cells": [
  {
   "cell_type": "markdown",
   "metadata": {},
   "source": [
    "# Алгоритм преобразования DFA в regex"
   ]
  },
  {
   "cell_type": "markdown",
   "metadata": {},
   "source": [
    "Пусть $\\mathcal{M} = (Q = \\{Q_0, ..., Q_n \\}, \\Sigma, \\delta, Q_0, F)$ — детерминированный конечный автомат, $\\mathcal{K}$ — алгебра регулярных выражений над алфавитом $\\Sigma$ сигнатуры $\\langle \\varepsilon, \\varnothing, +, \\cdot, ^* \\rangle$.\\\n",
    "Рассмотрим следующую систему\n",
    "\n",
    "$$\n",
    "\\begin{cases}\n",
    "    \\begin{gather*}\n",
    "    Q_0 = \\alpha_{11}Q_1 + ... + \\alpha_{1n}Q_n + \\beta_i, \\\\\n",
    "    ... \\tag{1}\\\\\n",
    "    Q_n = \\alpha_{n1}Q_1 + ... + \\alpha_{nn}Q_n + \\beta_n; \\\\\n",
    "    \\end{gather*}\n",
    "\\end{cases}\n",
    "$$\n",
    "\n",
    "где $\\alpha_{ij} = \\varnothing$, если $\\nexists \\alpha \\in \\Sigma: \\delta(Q_i, \\alpha) = Q_j$, или $\\alpha_{ij} \\in \\Sigma: \\delta(Q_i, \\alpha_{ij}) = Q_j$, а $\\beta_i = \\begin{cases}\\varepsilon, \\; Q_i \\in F, \\\\ \\varnothing, \\; Q_i \\notin F. \\end{cases}$\n",
    "\n",
    "**Утверждение**\\\n",
    "$(\\gamma_0, ..., \\gamma_n)$ — наименьшее решение системы $(1)$ $\\Rightarrow$ $L(\\gamma_0) = L(\\mathcal{M}).$\n",
    "\n",
    "Перевод DFA в regex реализован в методе to_regex класса DFA."
   ]
  },
  {
   "cell_type": "markdown",
   "metadata": {},
   "source": [
    "## Парсер"
   ]
  },
  {
   "cell_type": "markdown",
   "metadata": {},
   "source": [
    "Синтаксис входных данных чуть дополнен: алфавит $\\Sigma$ может допускать цифры, а индекс у состояний может быть любым натуральным числом.\n",
    "\n",
    "Разбор DFA происходит в методе parse класса DFA.\n",
    "\n",
    "Регулярные выражения входных данных импортируются из файла [rules.py](https://github.com/SmEgDm/tfl/tree/main/labs/lab2/dfa_to_regex/rules.py)."
   ]
  },
  {
   "cell_type": "markdown",
   "metadata": {},
   "source": [
    "## Класс DFA"
   ]
  },
  {
   "cell_type": "code",
   "execution_count": 1,
   "metadata": {},
   "outputs": [],
   "source": [
    "import sys\n",
    "sys.path.append('../regex_system_solver/')\n",
    "\n",
    "import re\n",
    "import Regex\n",
    "import Equation\n",
    "from graphviz import Digraph\n",
    "import rules\n",
    "\n",
    "# Новое правило разбора символа регулярного выражения\n",
    "def parse_symbol(tokens):\n",
    "    if re.fullmatch('[a-z0-9εØ]', tokens[0]):\n",
    "        return Regex.Regex(Regex.Operation.CONST, tokens.pop(0))\n",
    "\n",
    "# Новое правило разбора переменных\n",
    "def parse_var(tokens):\n",
    "    def parse_index():\n",
    "        if len(tokens) != 0 and re.fullmatch(r'[\\u2080-\\u2089]', tokens[0]):\n",
    "            return tokens.pop(0) + parse_index()\n",
    "        return ''\n",
    "    if len(tokens) != 0 and re.fullmatch(r'[A-Z]', tokens[0]):\n",
    "        var = tokens.pop(0)\n",
    "        return var + parse_index()\n",
    "\n",
    "Regex.Regex.set_parse_symbol(parse_symbol)\n",
    "Regex.Regex.set_one('ε')\n",
    "Regex.Regex.set_zero('Ø')\n",
    "Equation.Equation.set_parse_var(parse_var)\n",
    "\n",
    "class DFA:\n",
    "    def __init__(self, states, start_state, finite_states, transitions):\n",
    "        self.states = states\n",
    "        self.start_state = start_state\n",
    "        self.finite_states = finite_states\n",
    "        self.transitions = transitions\n",
    "    \n",
    "    def parse(text):\n",
    "        if not re.fullmatch(rules.dfa, text):\n",
    "            raise Exception('Incorrect DFA')\n",
    "        def to_unicode(state):\n",
    "            state = state.strip()\n",
    "            index = ''\n",
    "            for digit in state[1:]:\n",
    "                index += chr(ord('\\u2080') | int(digit))\n",
    "            return f'{state[0]}{index}'\n",
    "        start_state = to_unicode(re.search(rules.state, text).group(0))\n",
    "        states = set()\n",
    "        transitions = []\n",
    "        for transition_text in re.findall(rules.transition, text):\n",
    "            transition = re.findall(f'<({rules.state}),({rules.letter}),({rules.state})>', transition_text)[0]\n",
    "            transitions.append((to_unicode(transition[0]), transition[1].strip(), to_unicode(transition[2])))\n",
    "            states.add(to_unicode(transition[0])); states.add(to_unicode(transition[2]))\n",
    "        finite_states = set()\n",
    "        for finite_state in re.findall(rules.state, re.search(rules.finite_states, text).group(0)):\n",
    "            finite_states.add(to_unicode(finite_state))\n",
    "        return DFA(states, start_state, finite_states, transitions)\n",
    "    \n",
    "    def to_graph(self):\n",
    "        graph = Digraph(graph_attr={'rankdir': 'LR'}, format='svg')\n",
    "        graph.node('', shape='none')\n",
    "        graph.node(self.start_state, shape='circle')\n",
    "        graph.edge('', self.start_state)\n",
    "        for state, letter, other_state in self.transitions:\n",
    "            graph.node(state, shape='circle')\n",
    "            graph.node(other_state, shape='circle')\n",
    "            graph.edge(state, other_state, letter)\n",
    "        for finite_state in self.finite_states:\n",
    "            graph.node(finite_state, shape='doublecircle')\n",
    "        return graph\n",
    "\n",
    "    def to_regex(self):\n",
    "        start_equation = None\n",
    "        system = []\n",
    "        for state in self.states:\n",
    "            terms = []\n",
    "            for transition in self.transitions:\n",
    "                if transition[0] == state:\n",
    "                    terms.append(transition[1] + transition[2])\n",
    "            if state in self.finite_states:\n",
    "                terms.append('ε')\n",
    "            system.append(Equation.Equation.parse(f'{state}={\"+\".join(terms)}'))\n",
    "            if state == self.start_state:\n",
    "                start_equation = system[-1]\n",
    "        Equation.solve_system(system)\n",
    "        return str(start_equation).split('=')[1].strip()"
   ]
  },
  {
   "cell_type": "markdown",
   "metadata": {},
   "source": [
    "## Тесты"
   ]
  },
  {
   "cell_type": "code",
   "execution_count": 2,
   "metadata": {},
   "outputs": [
    {
     "data": {
      "application/vnd.jupyter.widget-view+json": {
       "model_id": "0ba055bf5d67458e9129af2c145736af",
       "version_major": 2,
       "version_minor": 0
      },
      "text/plain": [
       "Tab(children=(HTML(value=\"\\n    <div>\\n        <b>Input</b><br>\\n        <img src='graphs/graph_1.svg' alt=gra…"
      ]
     },
     "metadata": {},
     "output_type": "display_data"
    }
   ],
   "source": [
    "import os\n",
    "from ipywidgets import Tab, HTML\n",
    "\n",
    "tests_count = len(os.listdir('tests'))\n",
    "graphs_path = 'https://raw.githubusercontent.com/SmEgDm/tfl/tree/main/labs/lab2/dfa_to_regex/graphs'\n",
    "\n",
    "children = []\n",
    "output_pattern = lambda input_text, result: HTML(\n",
    "    f'''\n",
    "    <div>\n",
    "        <b>Input</b><br>\n",
    "        {input_text}<br><br>\n",
    "        <b>Result</b><br>\n",
    "        {result}\n",
    "    </div>\n",
    "    '''\n",
    ")\n",
    "\n",
    "for i in range(tests_count):\n",
    "    input_dfa = None\n",
    "    with open(f'tests/test_{i}.txt') as f:\n",
    "        try:\n",
    "            text = f.read()\n",
    "            dfa = DFA.parse(text)\n",
    "            dfa.to_graph().render(filename=f'graphs/graph_{i + 1}')\n",
    "            svg = f'<img src=\\'{graphs_path}/graph_{i + 1}.svg\\' alt=graph_{i}>'\n",
    "            children.append(output_pattern(svg, dfa.to_regex()))\n",
    "        except Exception as err:\n",
    "            children.append(output_pattern(text.replace('<', '&lt;').replace('>', '&gt;'), f'<b>{err}</b>'))\n",
    "\n",
    "tab = Tab()\n",
    "for i in range(tests_count):\n",
    "    tab.set_title(i, f'Test {i + 1}')\n",
    "tab.children = children\n",
    "\n",
    "tab"
   ]
  },
  {
   "cell_type": "code",
   "execution_count": 3,
   "metadata": {},
   "outputs": [
    {
     "data": {
      "text/plain": [
       "False"
      ]
     },
     "execution_count": 3,
     "metadata": {},
     "output_type": "execute_result"
    }
   ],
   "source": []
  },
  {
   "cell_type": "code",
   "execution_count": null,
   "metadata": {},
   "outputs": [],
   "source": []
  }
 ],
 "metadata": {
  "interpreter": {
   "hash": "ea68cbfb3389b9177140d47072b988a142c6fed20866379f0d743d320396fcb4"
  },
  "kernelspec": {
   "display_name": "Python 3.10.0 64-bit",
   "language": "python",
   "name": "python3"
  },
  "language_info": {
   "codemirror_mode": {
    "name": "ipython",
    "version": 3
   },
   "file_extension": ".py",
   "mimetype": "text/x-python",
   "name": "python",
   "nbconvert_exporter": "python",
   "pygments_lexer": "ipython3",
   "version": "3.10.0"
  },
  "orig_nbformat": 4
 },
 "nbformat": 4,
 "nbformat_minor": 2
}
