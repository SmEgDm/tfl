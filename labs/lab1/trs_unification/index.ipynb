{
 "cells": [
  {
   "cell_type": "markdown",
   "metadata": {},
   "source": [
    "# Алгоритм унификации линейных термов"
   ]
  },
  {
   "cell_type": "markdown",
   "metadata": {},
   "source": [
    "## Лексер"
   ]
  },
  {
   "cell_type": "code",
   "execution_count": 1,
   "metadata": {},
   "outputs": [],
   "source": [
    "def tokenize(line):\n",
    "    tokens = []\n",
    "    token = ''\n",
    "    for symbol in ''.join(line.split()):\n",
    "        if symbol.isdigit() and token.isdigit() and token != '0':\n",
    "            token += symbol\n",
    "            continue\n",
    "        if token != '': tokens.append(token)\n",
    "        token = symbol\n",
    "    if token != '': tokens.append(token)\n",
    "    \n",
    "    return tokens"
   ]
  },
  {
   "cell_type": "markdown",
   "metadata": {},
   "source": [
    "## Парсeр конструкторов"
   ]
  },
  {
   "cell_type": "code",
   "execution_count": 2,
   "metadata": {},
   "outputs": [],
   "source": [
    "import re\n",
    "\n",
    "constructor_regex = r'[a-zA-Z][ \\t]*\\([ \\t]*\\d+[ \\t]*\\)'\n",
    "\n",
    "constructors_regex = f'constructors[ \\t]*=[ \\t]*({constructor_regex}[ \\t]*(,[ \\t]*{constructor_regex}[ \\t]*)*)?'\n",
    "\n",
    "def parse_constructors(line):\n",
    "    if not re.fullmatch(constructors_regex, line):\n",
    "        raise Exception('Incorrect constructors definition')\n",
    "    constructors = {}\n",
    "    constants = set()\n",
    "    for constructor_str in re.findall(constructor_regex, line):\n",
    "        name = re.findall(r'[a-zA-Z]', constructor_str)[0]\n",
    "        args_count = int(re.findall(r'\\d', constructor_str)[0])\n",
    "        if re.fullmatch(r'[a-z]', name):\n",
    "            if args_count <= 0:\n",
    "                raise Exception('Argument count of constructor must be a natural number')\n",
    "            constructors[name] = args_count\n",
    "        else:\n",
    "            if args_count != 0:\n",
    "                raise Exception('Argument count of constant must be zero')\n",
    "            constants.add(name)\n",
    "    \n",
    "    return (constructors, constants)"
   ]
  },
  {
   "cell_type": "markdown",
   "metadata": {},
   "source": [
    "## Парсер переменных"
   ]
  },
  {
   "cell_type": "code",
   "execution_count": 3,
   "metadata": {},
   "outputs": [],
   "source": [
    "variables_regex = r'variables[ \\t]*=[ \\t]*([a-z][ \\t]*(,[ \\t]*[a-z][ \\t]*)*)?'\n",
    "\n",
    "def parse_variables(line):\n",
    "    if not re.fullmatch(variables_regex, line):\n",
    "        raise Exception('Incorrect variables definition')\n",
    "    \n",
    "    return set(re.findall(r'[a-z]', line.split('=')[1]))"
   ]
  },
  {
   "cell_type": "markdown",
   "metadata": {},
   "source": [
    "## Парсeр термов"
   ]
  },
  {
   "cell_type": "code",
   "execution_count": 4,
   "metadata": {},
   "outputs": [],
   "source": [
    "class Term:\n",
    "    def __init__(self, name, subterms=[]):\n",
    "        self.name = name\n",
    "        self.subterms = subterms\n",
    "    \n",
    "    def is_composite(self):\n",
    "        return len(self.subterms) != 0\n",
    "    \n",
    "    def is_variable(self):\n",
    "        return not self.is_composite() and re.fullmatch(r'[a-z]', self.name)\n",
    "    \n",
    "    def __eq__(self, obj):\n",
    "        return isinstance(obj, Term) and self.name == obj.name\n",
    "\n",
    "    def __str__(self):\n",
    "        if self.is_composite():\n",
    "            result = f'{self.name}({self.subterms[0]}'\n",
    "            for i in range(1, len(self.subterms)):\n",
    "                result += f', {self.subterms[i]}'\n",
    "            return f'{result})'\n",
    "        return self.name\n",
    "\n",
    "class TRS:\n",
    "    def __init__(self, constructors, constants, variables):\n",
    "        if len(set(constructors) & variables) != 0:\n",
    "            raise Exception('Constructors and variables must have different names')\n",
    "        self.constructors = constructors\n",
    "        self.constants = constants\n",
    "        self.variables = variables\n",
    "    \n",
    "    def parse_term(self, line):\n",
    "        tokens = tokenize(line)\n",
    "        def term():\n",
    "            if tokens[0] in self.constructors:\n",
    "                return constructor()\n",
    "            if tokens[0] in self.variables | self.constants:\n",
    "                return Term(tokens.pop(0))\n",
    "            raise Exception('Incorrect term')\n",
    "        def constructor():\n",
    "            name = tokens.pop(0)\n",
    "            if tokens.pop(0) != '(':\n",
    "                raise Exception('Incorrect term')\n",
    "            args = [term()]\n",
    "            def tail():\n",
    "                if tokens[0] != ',': return\n",
    "                tokens.pop(0)\n",
    "                args.append(term())\n",
    "                tail()\n",
    "            tail()\n",
    "            if tokens.pop(0) != ')' or self.constructors[name] != len(args):\n",
    "                raise Exception('Incorrect term')\n",
    "            return Term(name, args)\n",
    "        return term()"
   ]
  },
  {
   "cell_type": "markdown",
   "metadata": {},
   "source": [
    "## Унификатор"
   ]
  },
  {
   "cell_type": "code",
   "execution_count": 10,
   "metadata": {},
   "outputs": [],
   "source": [
    "substitutions = [[], []]\n",
    "\n",
    "class UnificationException(Exception):\n",
    "    def __init__(self, message):\n",
    "        self.message = message\n",
    "        super().__init__(self.message)\n",
    "\n",
    "def unification(term, other_term):\n",
    "    substitutions = [[], []]\n",
    "    def unification_rec(term, other_term):\n",
    "        if term.is_variable():\n",
    "            substitutions[0].append(f'{term} := {other_term}')\n",
    "            return other_term\n",
    "        if other_term.is_variable():\n",
    "            substitutions[1].append(f'{other_term} := {term}')\n",
    "            return term\n",
    "        if term == other_term:\n",
    "            subterms = []\n",
    "            for i in range(len(term.subterms)):\n",
    "                subterms.append(unification_rec(term.subterms[i], other_term.subterms[i]))\n",
    "            return Term(term.name, subterms)\n",
    "        raise UnificationException('Unable to unificate')\n",
    "    return (unification_rec(term, other_term), substitutions)"
   ]
  },
  {
   "cell_type": "markdown",
   "metadata": {},
   "source": [
    "## Тесты"
   ]
  },
  {
   "cell_type": "code",
   "execution_count": 11,
   "metadata": {},
   "outputs": [
    {
     "data": {
      "application/vnd.jupyter.widget-view+json": {
       "model_id": "0c6de7f28f714dbc812505ea693bca7f",
       "version_major": 2,
       "version_minor": 0
      },
      "text/plain": [
       "Tab(children=(HTML(value='\\n    <div>\\n        <b>Input</b><br>\\n        constructors = g(1),A(0),f(2)<br>vari…"
      ]
     },
     "metadata": {},
     "output_type": "display_data"
    }
   ],
   "source": [
    "import os\n",
    "from ipywidgets import Tab, HTML\n",
    "\n",
    "tests_count = len(os.listdir('tests'))\n",
    "\n",
    "children = []\n",
    "output_pattern = lambda input_text, result: HTML(\n",
    "    f'''\n",
    "    <div>\n",
    "        <b>Input</b><br>\n",
    "        {input_text}<br><br>\n",
    "        <b>Result</b><br>\n",
    "        {result}\n",
    "    </div>\n",
    "    '''\n",
    ")\n",
    "\n",
    "for i in range(tests_count):\n",
    "    substitutions = [[], []]\n",
    "    with open(f'tests/test_{i}.txt') as f:\n",
    "        lines = [line.strip() for line in f.readlines() if line != '\\n']\n",
    "        result = ''\n",
    "        try:\n",
    "            trs = TRS(*parse_constructors(lines[0]), parse_variables(lines[1]))\n",
    "            term = trs.parse_term(lines[2].split('=')[1])\n",
    "            other_term = trs.parse_term(lines[3].split('=')[1])\n",
    "            unifier, substitutions = unification(term, other_term)\n",
    "            result = f'''\n",
    "                Unifier: {unifier}<br>\n",
    "                {f'Substitutions in first term: {\"; \".join(substitutions[0])}' if len(substitutions[0]) != 0 else ''}<br>\n",
    "                {f'Substitutions in second term: {\"; \".join(substitutions[1])}' if len(substitutions[1]) != 0 else ''}\n",
    "            '''\n",
    "        except UnificationException as err:\n",
    "            result = err\n",
    "        except Exception as err:\n",
    "            result = f'<b>Parse error: </b>{err}'\n",
    "        children.append(output_pattern('<br>'.join(lines), result))\n",
    "\n",
    "tab = Tab()\n",
    "for i in range(tests_count):\n",
    "    tab.set_title(i, f'Test {i + 1}')\n",
    "tab.children = children\n",
    "\n",
    "tab"
   ]
  },
  {
   "cell_type": "code",
   "execution_count": null,
   "metadata": {},
   "outputs": [],
   "source": []
  }
 ],
 "metadata": {
  "interpreter": {
   "hash": "ea68cbfb3389b9177140d47072b988a142c6fed20866379f0d743d320396fcb4"
  },
  "kernelspec": {
   "display_name": "Python 3.10.0 64-bit",
   "name": "python3"
  },
  "language_info": {
   "codemirror_mode": {
    "name": "ipython",
    "version": 3
   },
   "file_extension": ".py",
   "mimetype": "text/x-python",
   "name": "python",
   "nbconvert_exporter": "python",
   "pygments_lexer": "ipython3",
   "version": "3.10.0"
  },
  "orig_nbformat": 4
 },
 "nbformat": 4,
 "nbformat_minor": 2
}
